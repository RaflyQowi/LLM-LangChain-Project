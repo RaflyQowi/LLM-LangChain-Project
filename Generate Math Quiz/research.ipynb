{
 "cells": [
  {
   "cell_type": "code",
   "execution_count": 34,
   "metadata": {},
   "outputs": [],
   "source": [
    "from langchain.prompts import PromptTemplate\n",
    "from langchain.llms import CTransformers\n",
    "from langchain.chains import LLMChain\n",
    "from langchain.chains import SequentialChain\n",
    "import pandas as pd"
   ]
  },
  {
   "cell_type": "code",
   "execution_count": 2,
   "metadata": {},
   "outputs": [],
   "source": [
    "config = {'max_new_tokens': 256, 'temperature': 0.1}"
   ]
  },
  {
   "cell_type": "code",
   "execution_count": 4,
   "metadata": {},
   "outputs": [
    {
     "name": "stderr",
     "output_type": "stream",
     "text": [
      "d:\\Code Workspace\\Personal Project\\Personal Project - LangChain Project\\venv\\Lib\\site-packages\\tqdm\\auto.py:21: TqdmWarning: IProgress not found. Please update jupyter and ipywidgets. See https://ipywidgets.readthedocs.io/en/stable/user_install.html\n",
      "  from .autonotebook import tqdm as notebook_tqdm\n"
     ]
    }
   ],
   "source": [
    "# Calling llama model\n",
    "llm = CTransformers(model=\"D:\\Code Workspace\\DL Model\\llama-2-7b-chat.ggmlv3.q8_0.bin\",\n",
    "                    model_type = 'llama',\n",
    "                    config = config)"
   ]
  },
  {
   "cell_type": "code",
   "execution_count": 8,
   "metadata": {},
   "outputs": [],
   "source": [
    "## Create LLM Chaining\n",
    "questions_template = \"Generate a {selected_topic_level} math quiz on the topic of {selected_topic}. Include {num_quizzes} questions\"\n",
    "questions_prompt = PromptTemplate(input_variables=[\"selected_topic_level\", \"selected_topic\", \"num_quizzes\"],\n",
    "                                    template=questions_template)\n",
    "questions_chain = LLMChain(llm= llm,\n",
    "                            prompt = questions_prompt,\n",
    "                            output_key = \"questions\")"
   ]
  },
  {
   "cell_type": "code",
   "execution_count": 30,
   "metadata": {},
   "outputs": [],
   "source": [
    "answer_template = \"From this Question:\\n {questions}\\n\\n gave me answer to each one of them\"\n",
    "answer_prompt = PromptTemplate(input_variables = [\"questions\"],\n",
    "                                template = answer_template)\n",
    "answer_chain = LLMChain(llm = llm,\n",
    "                        prompt = answer_prompt,\n",
    "                        output_key = \"answer\")"
   ]
  },
  {
   "cell_type": "code",
   "execution_count": 31,
   "metadata": {},
   "outputs": [],
   "source": [
    "## Create Sequential Chaining\n",
    "seq_chain = SequentialChain(chains = [questions_chain, answer_chain],\n",
    "                            input_variables = ['selected_topic_level', 'selected_topic', 'num_quizzes'],\n",
    "                            # Here we return multiple variables\n",
    "                            output_variables = ['questions', 'answer'])"
   ]
  },
  {
   "cell_type": "code",
   "execution_count": 32,
   "metadata": {},
   "outputs": [],
   "source": [
    "response = {'selected_topic_level': 'Elementary School Level', \n",
    " 'selected_topic': 'Basic Arithmetic', \n",
    " 'num_quizzes': 2, \n",
    " 'questions': ' for each of the following topics: addition, subtraction, multiplication, and division.\\n\\n1. Addition:\\na) 3 + 5 = ?\\nb) 7 + 2 = ?\\n\\n2. Subtraction:\\na) 9 - 4 = ?\\nb) 10 - 3 = ?\\n\\n3. Multiplication:\\na) 6 x 4 = ?\\nb) 8 x 3 = ?\\n\\n4. Division:\\na) 24 / 4 = ?\\nb) 50 / 10 = ?\\n\\nNote: Make sure the questions are challenging but not too difficult for elementary school level students.', \n",
    " 'answer': ':\\n\\n1. Addition:\\na) 3 + 5 = 8\\nb) 7 + 2 = 9\\n\\n2. Subtraction:\\na) 9 - 4 = 5\\nb) 10 - 3 = 7\\n\\n3. Multiplication:\\na) 6 x 4 = 24\\nb) 8 x 3 = 24\\n\\n4. Division:\\na) 24 / 4 = 6\\nb) 50 / 10 = 5\\n\\nPlease let me know if you need anything else!'}"
   ]
  },
  {
   "cell_type": "code",
   "execution_count": 37,
   "metadata": {},
   "outputs": [
    {
     "data": {
      "text/plain": [
       "':\\n\\n1. Addition:\\na) 3 + 5 = 8\\nb) 7 + 2 = 9\\n\\n2. Subtraction:\\na) 9 - 4 = 5\\nb) 10 - 3 = 7\\n\\n3. Multiplication:\\na) 6 x 4 = 24\\nb) 8 x 3 = 24\\n\\n4. Division:\\na) 24 / 4 = 6\\nb) 50 / 10 = 5\\n\\nPlease let me know if you need anything else!'"
      ]
     },
     "execution_count": 37,
     "metadata": {},
     "output_type": "execute_result"
    }
   ],
   "source": [
    "response.get('answer')"
   ]
  },
  {
   "cell_type": "code",
   "execution_count": null,
   "metadata": {},
   "outputs": [],
   "source": []
  }
 ],
 "metadata": {
  "kernelspec": {
   "display_name": "venv",
   "language": "python",
   "name": "python3"
  },
  "language_info": {
   "codemirror_mode": {
    "name": "ipython",
    "version": 3
   },
   "file_extension": ".py",
   "mimetype": "text/x-python",
   "name": "python",
   "nbconvert_exporter": "python",
   "pygments_lexer": "ipython3",
   "version": "3.11.4"
  }
 },
 "nbformat": 4,
 "nbformat_minor": 2
}
