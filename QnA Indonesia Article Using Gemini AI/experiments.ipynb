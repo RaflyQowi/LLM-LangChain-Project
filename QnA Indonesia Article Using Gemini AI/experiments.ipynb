{
 "cells": [
  {
   "cell_type": "code",
   "execution_count": 31,
   "metadata": {},
   "outputs": [],
   "source": [
    "from langchain.document_loaders import UnstructuredURLLoader\n",
    "from bs4 import BeautifulSoup\n",
    "import requests\n",
    "from langchain_core.documents.base import Document\n",
    "from langchain.llms import HuggingFaceHub"
   ]
  },
  {
   "cell_type": "code",
   "execution_count": 32,
   "metadata": {},
   "outputs": [],
   "source": [
    "def langchain_url(url):\n",
    "    loader = UnstructuredURLLoader(url)\n",
    "    data = loader.load()\n",
    "    return data"
   ]
  },
  {
   "cell_type": "code",
   "execution_count": 33,
   "metadata": {},
   "outputs": [],
   "source": [
    "def scrape_detik(url):\n",
    "    response = requests.get(url)\n",
    "    if response.status_code == 200:\n",
    "        soup = BeautifulSoup(response.text, 'html.parser')\n",
    "        results = soup.find_all(class_='detail__body-text itp_bodycontent')\n",
    "        # Extract and return the text from each element\n",
    "        cleaned_text_list = []\n",
    "        for element in results:\n",
    "            text = element.get_text().replace('\\n', '').strip()\n",
    "            cleaned_text_list.append(text)\n",
    "        \n",
    "        # Join the cleaned text from the list\n",
    "        all_text = \" \".join(cleaned_text_list)\n",
    "\n",
    "        return all_text"
   ]
  },
  {
   "cell_type": "code",
   "execution_count": 34,
   "metadata": {},
   "outputs": [],
   "source": [
    "link = 'https://finance.detik.com/infrastruktur/d-7101502/ini-bocoran-konglomerat-yang-bakal-susul-aguan-cs-investasi-di-ikn'\n",
    "link_list = [\n",
    "    'https://finance.detik.com/infrastruktur/d-7101502/ini-bocoran-konglomerat-yang-bakal-susul-aguan-cs-investasi-di-ikn',\n",
    "    'https://sport.detik.com/sepakbola/liga-spanyol/d-7101575/real-madrid-krisis-bek-tengah-bakal-beli-pemain-di-januari'\n",
    "]"
   ]
  },
  {
   "cell_type": "code",
   "execution_count": 35,
   "metadata": {},
   "outputs": [
    {
     "data": {
      "text/plain": [
       "'finance.detik.com'"
      ]
     },
     "execution_count": 35,
     "metadata": {},
     "output_type": "execute_result"
    }
   ],
   "source": [
    "from urllib.parse import urlparse\n",
    "parsed_url = urlparse(link)\n",
    "domain = parsed_url.netloc\n",
    "domain"
   ]
  },
  {
   "cell_type": "code",
   "execution_count": 36,
   "metadata": {},
   "outputs": [
    {
     "data": {
      "text/plain": [
       "<Response [200]>"
      ]
     },
     "execution_count": 36,
     "metadata": {},
     "output_type": "execute_result"
    }
   ],
   "source": [
    "requests.get(link)"
   ]
  },
  {
   "cell_type": "code",
   "execution_count": 37,
   "metadata": {},
   "outputs": [
    {
     "data": {
      "text/plain": [
       "True"
      ]
     },
     "execution_count": 37,
     "metadata": {},
     "output_type": "execute_result"
    }
   ],
   "source": [
    "\"detik.com\" in domain"
   ]
  },
  {
   "cell_type": "code",
   "execution_count": 38,
   "metadata": {},
   "outputs": [],
   "source": [
    "result = langchain_url([link])"
   ]
  },
  {
   "cell_type": "code",
   "execution_count": 39,
   "metadata": {},
   "outputs": [
    {
     "data": {
      "text/plain": [
       "[Document(page_content='Ini Bocoran Konglomerat yang Bakal Susul Aguan cs Investasi di IKN\\n\\n0 komentar\\n\\n\\n                BAGIKAN \\xa0\\n                \\n\\nTautan telah disalin\\n\\nMENU\\n\\ndetikcom\\n\\nTerpopuler\\n\\nKirim Tulisan\\n\\nLive TV\\n\\ndetikPemilu NEW\\n\\nKategori Berita\\n\\ndetikNews\\n\\ndetikFinance\\n\\ndetikInet\\n\\ndetikHot\\n\\ndetikSport\\n\\nSepakbola\\n\\ndetikOto\\n\\ndetikTravel\\n\\ndetikFood\\n\\ndetikHealth\\n\\nWolipop\\n\\ndetikX\\n\\n20Detik\\n\\ndetikFoto\\n\\ndetikEdu\\n\\ndetikHikmah\\n\\ndetikProperti\\n\\nDaerah\\n\\ndetikJateng\\n\\ndetikJatim\\n\\ndetikJabar\\n\\ndetikSulsel\\n\\ndetikSumut\\n\\ndetikBali\\n\\ndetikSumbagsel\\n\\ndetikJogja NEW\\n\\nLayanan\\n\\nPasang Mata\\n\\nadsmart\\n\\nForum\\n\\ndetikEvent\\n\\nTrans Snow World\\n\\nTrans Studio\\n\\nberbuatbaik.id\\n\\nziswafctarsa.id\\n\\nDetik Network\\n\\nCNN Indonesia\\n\\nCNBC Indonesia\\n\\nHai Bunda\\n\\nInsertLive\\n\\nBeautynesia\\n\\nFemale Daily\\n\\nCXO Media\\n\\nHome\\n\\nEkonomi Bisnis\\n\\nFinansial\\n\\nInfrastruktur\\n\\nEnergi\\n\\nIndustri\\n\\nFintech\\n\\nInfografis\\n\\nLoker\\n\\nKamus Finance\\n\\nIndeks\\n\\nAdsmart\\n\\nSolusiUKM\\n\\nTerpopuler\\n\\nBursa Valas\\n\\nMoneter\\n\\nMarket Research\\n\\nFoto Biz\\n\\nVideo Biz\\n\\nPerencanaan Keuangan\\n\\n\\n\\n\\n\\ndetikFinance\\n\\nInfrastruktur\\n\\nIni Bocoran Konglomerat yang Bakal Susul Aguan cs Investasi di IKN\\n\\nIlyas Fadilah - \\n\\ndetikFinance\\n\\nKamis, 21 Des 2023 13:41 WIB\\n\\nSejumlah konglomerat telah menanamkan modalnya di proyek Ibu Kota Negara (IKN) Nusantara, Kalimantan Timur. Salah satu di antaranya adalah Sugianto Kusuma alias Aguan, yang merupakan pendiri Agung Sedayu Group.\\n\\nSelain itu, ada nama Sukanto Tanoto yang disebut bakal masuk ke proyek IKN. Hal ini diungkapkan langsung Deputi Pendanaan dan Investasi Otorita IKN (OIKN), Agung Wicaksono.\\n\\n\"Ada, ada banyak ya (konglomerat). Saya sering ditanya tentang Sukanto Tanoto misalnya, iya ada. Tapi kita masih proses, ada seleksi, ada proses mengatur yang prioritas di mana areanya,\" sebut Agung dalam wawancara eksklusif bersama detikcom, dikutip Rabu (20/12/2023).\\n\\nADVERTISEMENT\\n\\nSCROLL TO CONTINUE WITH CONTENT\\n\\nAgung menyebut sektor yang kemungkinan digarap Sukanto Tanoto adalah pendidikan dan properti. Namun ia juga menginginkan ada kontribusi dari para investor kepada negara.\\n\\n\"Ada pendidikan, mungkin ada propertinya. Tapi ya tadi kita ingin ada kontribusi. Pokoknya ada surat ke kita dari perusahaan itu kita ingin supaya ada kontribusi untuk bangun negara,\" lanjutnya.\\n\\nSelain itu investor di sektor transportasi umum juga bakal masuk di IKN dalam waktu dekat. Sayangnya Agung belum mau membocorkan siapa sosok yang dimaksud.\\n\\n\"Kemudian, ya dalam waktu dekat ya saya nggak bisa sebut merknya, tapi transportasi umum paling, ya paling bersejarah di Indonesia, swasta ya. Itu juga akan masuk dalam waktu dekat. Dan melihat contoh-contoh tadi ya, Aguan, transportasi, Sukanto Tanoto dan lain, mereka itu masuk, berinvestasi sekaligus berkontribusi,\" bebernya.\\n\\nAdapun maksud dari kontribusi adalah memberikan manfaat bagi lingkungan dan masyarakat. Kemudian ada juga investor sektor properti asal Kalimantan yang bakal menanamkan modal di IKN.\\n\\nBaca juga:  Negara Sudah Habis Rp 35 T buat IKN, Bangun Apa Saja?\\n\\nAgung menyebut investor tersebut merupakan salah satu yang terbesar di Kalimantan dan berpusat di Balikpapan. Investor tersebut biasa mengembangkan hotel, mall, dan sekolah.\\n\\n\"Minggu depan juga ada pengusaha properti juga dari Kalimantan. Perusahaan ini besarnya di Kalimantan, di Balikpapan. Dia terbesar di Balikpapan, kawasan mixed-use, ada hotel, ada shopping mall, ada sekolah. Jadi ini wujud partisipasi dari Kalimantan juga. Gotong royong, negara memanggil untuk bangun IKN,\" terang Agung.\\n\\nUntuk investor asing, Agung menyebut pemerintah masih melakukan proses seleksi. Namun sudah ada minat investasi yang datang dari Korea Selatan, Prancis, Amerika Serikat (AS) hingga China.\\n\\nSelain itu pada tahap pertama pemerintah masih memprioritaskan investor dalam negeri. Agung menilai pengusaha Indonesia masih mampu mengembangkan kawasan IKN.\\n\\n\"Jadi asing tadi itu dia pasti akan masuk, dia akan jalan. Tapi satu, kita prioritaskan seperti dikatakan Pak Jokowi dan Pak Bahlil (Bahlil Lahadalia, Menteri Investasi/Kepala BKPM) prioritaskan yang domestik dulu, karena memang area-area ini bisa ditangani investor domestik yang lokal,\" pungkasnya.\\n\\nLihat juga Video: Jokowi Groundbreaking Proyek Hotel Bintang 3-Restoran di IKN\\n\\n[Gambas:Video 20detik]\\n\\nikn\\n\\naguan\\n\\nnusantara\\n\\nBerita Terkait\\n\\nOtorita IKN Klaim Telah Kantongi Investasi Rp 41,4 T Sepanjang 2023\\n\\nNegara Sudah Habis Rp 35 T buat IKN, Bangun Apa Saja?\\n\\nJokowi Senang Blue Bird Investasi Transportasi Listrik di IKN Rp 250 Miliar\\n\\nResmikan Pembangunan Apartemen Pakubuwono Rp 1 T di IKN, Jokowi: Nilainya 10!\\n\\nJokowi Letakkan Batu Pertama Gedung II Kampus Gunadarma di Penyangga IKN\\n\\nPanglima TNI: Kodim IKN Akan Beri Keamanan, Kawal Kelancaran Pembangunan IKN\\n\\nAnies Belum Ada Rencana ke IKN:Kita Kampanye ke Tempat yang Ada Orangnya\\n\\nJokowi Senang Personel Polres Khusus IKN Sudah Disiapkan di Polda Kaltim\\n\\nBerita detikcom Lainnya\\n\\ndetikOto\\n\\nSpek Wuling Cloud EV, Mobil Listrik Rp 200 Jutaan yang Diduga Mau Masuk RI\\n\\ndetikFood\\n\\nRacikan Minuman Milo di Australia Beda dengan Indonesia, Ini Takarannya\\n\\ndetikTravel\\n\\nJijik, Penumpang Pipis Sembarangan di Kabin dan Ngevape di Pesawat\\n\\nSepakbola\\n\\nBaru Jadi Pelatih, Cesc Fabregas Mundur\\n\\nWolipop\\n\\n6 Gaya Enzy Storia Pakai Seragam Dharma Wanita Setelah Jadi Istri Diplomat\\n\\ndetikInet\\n\\nApa Perbedaan Jaringan Lokal dan Internet? Ini Penjelasannya\\n\\ndetikNews\\n\\nAlam Roasting Ganjar, Singgung \\'Tenang Aku di Sini\\'\\n\\ndetikHealth\\n\\nRI Kemasukan Varian JN.1, Kasus COVID-19 Bakal Melonjak Seperti Singapura?\\n\\nTag Terpopuler\\n\\ndito ariotedjo\\n\\nkaren agustiawan\\n\\nrafael alun trisambodo\\n\\ndmentor\\n\\nsubsidi kendaraan listrik\\n\\npart of \\n\\nConnect With Us\\n\\nCopyright @ 2023 detikcom. \\n\\nAll right reserved\\n\\nKategori\\n\\ndetikNews\\n\\ndetikEdukasi\\n\\ndetikFinance\\n\\ndetikInet\\n\\ndetikHot\\n\\ndetikSport\\n\\nSepakbola\\n\\ndetikOto\\n\\ndetikProperti\\n\\ndetikTravel\\n\\ndetikFood\\n\\ndetikHealth\\n\\nWolipop\\n\\ndetikX\\n\\n20Detik\\n\\ndetikFoto\\n\\ndetikHikmah\\n\\nLayanan\\n\\nberbuatbaik.id\\n\\nPasang Mata\\n\\nAdsmart\\n\\nForum\\n\\ndetikEvent\\n\\nTrans Snow World\\n\\nTrans Studio\\n\\nInformasi\\n\\nRedaksi\\n\\nPedoman Media Siber\\n\\nKarir\\n\\nKotak Pos\\n\\nMedia Partner\\n\\nInfo Iklan\\n\\nPrivacy Policy\\n\\nDisclaimer\\n\\nJaringan Media\\n\\nCNN Indonesia\\n\\nCNBC Indonesia\\n\\nHaibunda\\n\\nInsertlive\\n\\nBeautynesia\\n\\nFemale Daily\\n\\nCXO Media\\n\\nAdvertisement\\n\\nCLOSE', metadata={'source': 'https://finance.detik.com/infrastruktur/d-7101502/ini-bocoran-konglomerat-yang-bakal-susul-aguan-cs-investasi-di-ikn'})]"
      ]
     },
     "execution_count": 39,
     "metadata": {},
     "output_type": "execute_result"
    }
   ],
   "source": [
    "result"
   ]
  },
  {
   "cell_type": "code",
   "execution_count": 40,
   "metadata": {},
   "outputs": [],
   "source": [
    "result_1 = scrape_detik(link)"
   ]
  },
  {
   "cell_type": "code",
   "execution_count": 41,
   "metadata": {},
   "outputs": [
    {
     "data": {
      "text/plain": [
       "'Jakarta - Sejumlah konglomerat telah menanamkan modalnya di proyek Ibu Kota Negara (IKN) Nusantara, Kalimantan Timur. Salah satu di antaranya adalah Sugianto Kusuma alias Aguan, yang merupakan pendiri Agung Sedayu Group.Selain itu, ada nama Sukanto Tanoto yang disebut bakal masuk ke proyek IKN. Hal ini diungkapkan langsung Deputi Pendanaan dan Investasi Otorita IKN (OIKN), Agung Wicaksono.\"Ada, ada banyak ya (konglomerat). Saya sering ditanya tentang Sukanto Tanoto misalnya, iya ada. Tapi kita masih proses, ada seleksi, ada proses mengatur yang prioritas di mana areanya,\" sebut Agung dalam wawancara eksklusif bersama detikcom, dikutip Rabu (20/12/2023).\\r    ADVERTISEMENT\\r  \\r    SCROLL TO CONTINUE WITH CONTENT\\r  Agung menyebut sektor yang kemungkinan digarap Sukanto Tanoto adalah pendidikan dan properti. Namun ia juga menginginkan ada kontribusi dari para investor kepada negara.\"Ada pendidikan, mungkin ada propertinya. Tapi ya tadi kita ingin ada kontribusi. Pokoknya ada surat ke kita dari perusahaan itu kita ingin supaya ada kontribusi untuk bangun negara,\" lanjutnya.Selain itu investor di sektor transportasi umum juga bakal masuk di IKN dalam waktu dekat. Sayangnya Agung belum mau membocorkan siapa sosok yang dimaksud.\"Kemudian, ya dalam waktu dekat ya saya nggak bisa sebut merknya, tapi transportasi umum paling, ya paling bersejarah di Indonesia, swasta ya. Itu juga akan masuk dalam waktu dekat. Dan melihat contoh-contoh tadi ya, Aguan, transportasi, Sukanto Tanoto dan lain, mereka itu masuk, berinvestasi sekaligus berkontribusi,\" bebernya.Adapun maksud dari kontribusi adalah memberikan manfaat bagi lingkungan dan masyarakat. Kemudian ada juga investor sektor properti asal Kalimantan yang bakal menanamkan modal di IKN.Baca juga: Negara Sudah Habis Rp 35 T buat IKN, Bangun Apa Saja?Agung menyebut investor tersebut merupakan salah satu yang terbesar di Kalimantan dan berpusat di Balikpapan. Investor tersebut biasa mengembangkan hotel, mall, dan sekolah.\"Minggu depan juga ada pengusaha properti juga dari Kalimantan. Perusahaan ini besarnya di Kalimantan, di Balikpapan. Dia terbesar di Balikpapan, kawasan mixed-use, ada hotel, ada shopping mall, ada sekolah. Jadi ini wujud partisipasi dari Kalimantan juga. Gotong royong, negara memanggil untuk bangun IKN,\" terang Agung.Untuk investor asing, Agung menyebut pemerintah masih melakukan proses seleksi. Namun sudah ada minat investasi yang datang dari Korea Selatan, Prancis, Amerika Serikat (AS) hingga China.Selain itu pada tahap pertama pemerintah masih memprioritaskan investor dalam negeri. Agung menilai pengusaha Indonesia masih mampu mengembangkan kawasan IKN.\"Jadi asing tadi itu dia pasti akan masuk, dia akan jalan. Tapi satu, kita prioritaskan seperti dikatakan Pak Jokowi dan Pak Bahlil (Bahlil Lahadalia, Menteri Investasi/Kepala BKPM) prioritaskan yang domestik dulu, karena memang area-area ini bisa ditangani investor domestik yang lokal,\" pungkasnya.Lihat juga Video: Jokowi Groundbreaking Proyek Hotel Bintang 3-Restoran di IKN[Gambas:Video 20detik](ily/eds)ikn aguan nusantara'"
      ]
     },
     "execution_count": 41,
     "metadata": {},
     "output_type": "execute_result"
    }
   ],
   "source": [
    "result_1"
   ]
  },
  {
   "cell_type": "code",
   "execution_count": 42,
   "metadata": {},
   "outputs": [
    {
     "data": {
      "text/plain": [
       "langchain_core.documents.base.Document"
      ]
     },
     "execution_count": 42,
     "metadata": {},
     "output_type": "execute_result"
    }
   ],
   "source": [
    "result_2 = []\n",
    "for link in link_list:\n",
    "    content = scrape_detik(link)\n",
    "    document_instance = Document(\n",
    "        metadata= {'source':link},\n",
    "        page_content=content\n",
    "    )\n",
    "    result_2.append(document_instance)\n",
    "type(result_2[0])"
   ]
  },
  {
   "cell_type": "code",
   "execution_count": 43,
   "metadata": {},
   "outputs": [
    {
     "data": {
      "text/plain": [
       "[Document(page_content='Jakarta - Sejumlah konglomerat telah menanamkan modalnya di proyek Ibu Kota Negara (IKN) Nusantara, Kalimantan Timur. Salah satu di antaranya adalah Sugianto Kusuma alias Aguan, yang merupakan pendiri Agung Sedayu Group.Selain itu, ada nama Sukanto Tanoto yang disebut bakal masuk ke proyek IKN. Hal ini diungkapkan langsung Deputi Pendanaan dan Investasi Otorita IKN (OIKN), Agung Wicaksono.\"Ada, ada banyak ya (konglomerat). Saya sering ditanya tentang Sukanto Tanoto misalnya, iya ada. Tapi kita masih proses, ada seleksi, ada proses mengatur yang prioritas di mana areanya,\" sebut Agung dalam wawancara eksklusif bersama detikcom, dikutip Rabu (20/12/2023).\\r    ADVERTISEMENT\\r  \\r    SCROLL TO CONTINUE WITH CONTENT\\r  Agung menyebut sektor yang kemungkinan digarap Sukanto Tanoto adalah pendidikan dan properti. Namun ia juga menginginkan ada kontribusi dari para investor kepada negara.\"Ada pendidikan, mungkin ada propertinya. Tapi ya tadi kita ingin ada kontribusi. Pokoknya ada surat ke kita dari perusahaan itu kita ingin supaya ada kontribusi untuk bangun negara,\" lanjutnya.Selain itu investor di sektor transportasi umum juga bakal masuk di IKN dalam waktu dekat. Sayangnya Agung belum mau membocorkan siapa sosok yang dimaksud.\"Kemudian, ya dalam waktu dekat ya saya nggak bisa sebut merknya, tapi transportasi umum paling, ya paling bersejarah di Indonesia, swasta ya. Itu juga akan masuk dalam waktu dekat. Dan melihat contoh-contoh tadi ya, Aguan, transportasi, Sukanto Tanoto dan lain, mereka itu masuk, berinvestasi sekaligus berkontribusi,\" bebernya.Adapun maksud dari kontribusi adalah memberikan manfaat bagi lingkungan dan masyarakat. Kemudian ada juga investor sektor properti asal Kalimantan yang bakal menanamkan modal di IKN.Baca juga: Negara Sudah Habis Rp 35 T buat IKN, Bangun Apa Saja?Agung menyebut investor tersebut merupakan salah satu yang terbesar di Kalimantan dan berpusat di Balikpapan. Investor tersebut biasa mengembangkan hotel, mall, dan sekolah.\"Minggu depan juga ada pengusaha properti juga dari Kalimantan. Perusahaan ini besarnya di Kalimantan, di Balikpapan. Dia terbesar di Balikpapan, kawasan mixed-use, ada hotel, ada shopping mall, ada sekolah. Jadi ini wujud partisipasi dari Kalimantan juga. Gotong royong, negara memanggil untuk bangun IKN,\" terang Agung.Untuk investor asing, Agung menyebut pemerintah masih melakukan proses seleksi. Namun sudah ada minat investasi yang datang dari Korea Selatan, Prancis, Amerika Serikat (AS) hingga China.Selain itu pada tahap pertama pemerintah masih memprioritaskan investor dalam negeri. Agung menilai pengusaha Indonesia masih mampu mengembangkan kawasan IKN.\"Jadi asing tadi itu dia pasti akan masuk, dia akan jalan. Tapi satu, kita prioritaskan seperti dikatakan Pak Jokowi dan Pak Bahlil (Bahlil Lahadalia, Menteri Investasi/Kepala BKPM) prioritaskan yang domestik dulu, karena memang area-area ini bisa ditangani investor domestik yang lokal,\" pungkasnya.Lihat juga Video: Jokowi Groundbreaking Proyek Hotel Bintang 3-Restoran di IKN[Gambas:Video 20detik](ily/eds)ikn aguan nusantara', metadata={'source': 'https://finance.detik.com/infrastruktur/d-7101502/ini-bocoran-konglomerat-yang-bakal-susul-aguan-cs-investasi-di-ikn'}),\n",
       " Document(page_content='Jakarta - Real Madrid dihantam badai cedera bek tengah. Los Blancos akan belanja pemain di bulan Januari?Kemenangan Madrid atas Villarreal dibayar dengan mahal. Saat bertanding di Santiago Bernabeu pada akhir pekan lalu, El Real menang 4-1 di Santiago Bernabeu.Alaba jatuh setelah mencoba berebut bola dari pemain Villarreal, Gerard Moreno, di tengah lapangan. Cuma merumput setengah jam, dia akhirnya digantikan oleh Nacho Fernandez.\\rADVERTISEMENT\\r\\rSCROLL TO CONTINUE WITH CONTENT\\rBaca juga: Ini yang Bikin Real Madrid Mau Nggak Mau Harus Beli Bek BaruHasil pemeriksaan menunjukkan bahwa Alaba mengalami masalah pada anterior cruciate ligament (ACL). Oleh karena itu, bek asal Austria itu harus absen lama.Madrid tinggal mempunyai Antonio Ruediger dan Nacho sebagai pilihan bek tengah. Eder Militao juga sudah menghuni ruang perawatan lebih dulu.Manajer Madrid, Carlo Ancelotti, ditanya pewarta mengenai kemungkinan menambah amunisi lini belakang. Dia menegaskan klub sedang akan melakukan pembahasan.Baca juga: Krisis Bek Tengah, Madrid Bakal Pulangkan Varane?\"Kami berbincang dengan klub, kami akan mengevaluasi itu dalam beberapa hari. Kami mempunyai waktu untuk melakukan itu karena bursa transfer ditutup pada tanggal 31 (Januari) dan kami mencari solusi yang terbaik,\" kata Ancelotti di Marca.\"Pada saat ini, kami tak terburu-buru. Ini bukan waktunya untuk menyebutkan nama. Kalau ada kemungkinan untuk mendatangkan seorang pemain yang bagus untuk klub dan untuk musim ini, kami akan mendatangkannya,\" kata dia menambahkan.Baca juga: Madrid Menang Telak, David Alaba Cedera ACL Simak Video \"Sempat Tertinggal, Real Madrid Bungkam Napoli 4-2\"[Gambas:Video 20detik](cas/aff)real madrid carlo ancelotti', metadata={'source': 'https://sport.detik.com/sepakbola/liga-spanyol/d-7101575/real-madrid-krisis-bek-tengah-bakal-beli-pemain-di-januari'})]"
      ]
     },
     "execution_count": 43,
     "metadata": {},
     "output_type": "execute_result"
    }
   ],
   "source": [
    "result_2"
   ]
  },
  {
   "cell_type": "code",
   "execution_count": 44,
   "metadata": {},
   "outputs": [
    {
     "data": {
      "text/plain": [
       "langchain_core.documents.base.Document"
      ]
     },
     "execution_count": 44,
     "metadata": {},
     "output_type": "execute_result"
    }
   ],
   "source": [
    "document_instance = Document(\n",
    "    metadata= {'source':link},\n",
    "    page_content=result_1\n",
    ")\n",
    "type(document_instance)"
   ]
  },
  {
   "cell_type": "code",
   "execution_count": 45,
   "metadata": {},
   "outputs": [],
   "source": [
    "from langchain.text_splitter import RecursiveCharacterTextSplitter"
   ]
  },
  {
   "cell_type": "code",
   "execution_count": 46,
   "metadata": {},
   "outputs": [],
   "source": [
    "text_splitter = RecursiveCharacterTextSplitter(\n",
    "    separators=['\\n\\n','\\n','.',','],\n",
    "    chunk_size = 500\n",
    ")"
   ]
  },
  {
   "cell_type": "code",
   "execution_count": 49,
   "metadata": {},
   "outputs": [],
   "source": [
    "# docs = text_splitter.split_documents(result)\n",
    "# docs"
   ]
  },
  {
   "cell_type": "code",
   "execution_count": 48,
   "metadata": {},
   "outputs": [
    {
     "data": {
      "text/plain": [
       "[Document(page_content='Jakarta - Sejumlah konglomerat telah menanamkan modalnya di proyek Ibu Kota Negara (IKN) Nusantara, Kalimantan Timur. Salah satu di antaranya adalah Sugianto Kusuma alias Aguan, yang merupakan pendiri Agung Sedayu Group.Selain itu, ada nama Sukanto Tanoto yang disebut bakal masuk ke proyek IKN. Hal ini diungkapkan langsung Deputi Pendanaan dan Investasi Otorita IKN (OIKN), Agung Wicaksono.\"Ada, ada banyak ya (konglomerat). Saya sering ditanya tentang Sukanto Tanoto misalnya, iya ada', metadata={'source': 'https://finance.detik.com/infrastruktur/d-7101502/ini-bocoran-konglomerat-yang-bakal-susul-aguan-cs-investasi-di-ikn'}),\n",
       " Document(page_content='. Hal ini diungkapkan langsung Deputi Pendanaan dan Investasi Otorita IKN (OIKN), Agung Wicaksono.\"Ada, ada banyak ya (konglomerat). Saya sering ditanya tentang Sukanto Tanoto misalnya, iya ada. Tapi kita masih proses, ada seleksi, ada proses mengatur yang prioritas di mana areanya,\" sebut Agung dalam wawancara eksklusif bersama detikcom, dikutip Rabu (20/12/2023)', metadata={'source': 'https://finance.detik.com/infrastruktur/d-7101502/ini-bocoran-konglomerat-yang-bakal-susul-aguan-cs-investasi-di-ikn'}),\n",
       " Document(page_content='. Tapi kita masih proses, ada seleksi, ada proses mengatur yang prioritas di mana areanya,\" sebut Agung dalam wawancara eksklusif bersama detikcom, dikutip Rabu (20/12/2023).\\r    ADVERTISEMENT\\r  \\r    SCROLL TO CONTINUE WITH CONTENT\\r  Agung menyebut sektor yang kemungkinan digarap Sukanto Tanoto adalah pendidikan dan properti. Namun ia juga menginginkan ada kontribusi dari para investor kepada negara.\"Ada pendidikan, mungkin ada propertinya. Tapi ya tadi kita ingin ada kontribusi', metadata={'source': 'https://finance.detik.com/infrastruktur/d-7101502/ini-bocoran-konglomerat-yang-bakal-susul-aguan-cs-investasi-di-ikn'}),\n",
       " Document(page_content='. Namun ia juga menginginkan ada kontribusi dari para investor kepada negara.\"Ada pendidikan, mungkin ada propertinya. Tapi ya tadi kita ingin ada kontribusi. Pokoknya ada surat ke kita dari perusahaan itu kita ingin supaya ada kontribusi untuk bangun negara,\" lanjutnya.Selain itu investor di sektor transportasi umum juga bakal masuk di IKN dalam waktu dekat. Sayangnya Agung belum mau membocorkan siapa sosok yang dimaksud', metadata={'source': 'https://finance.detik.com/infrastruktur/d-7101502/ini-bocoran-konglomerat-yang-bakal-susul-aguan-cs-investasi-di-ikn'}),\n",
       " Document(page_content='.Selain itu investor di sektor transportasi umum juga bakal masuk di IKN dalam waktu dekat. Sayangnya Agung belum mau membocorkan siapa sosok yang dimaksud.\"Kemudian, ya dalam waktu dekat ya saya nggak bisa sebut merknya, tapi transportasi umum paling, ya paling bersejarah di Indonesia, swasta ya. Itu juga akan masuk dalam waktu dekat. Dan melihat contoh-contoh tadi ya, Aguan, transportasi, Sukanto Tanoto dan lain, mereka itu masuk, berinvestasi sekaligus berkontribusi,\" bebernya', metadata={'source': 'https://finance.detik.com/infrastruktur/d-7101502/ini-bocoran-konglomerat-yang-bakal-susul-aguan-cs-investasi-di-ikn'}),\n",
       " Document(page_content='. Itu juga akan masuk dalam waktu dekat. Dan melihat contoh-contoh tadi ya, Aguan, transportasi, Sukanto Tanoto dan lain, mereka itu masuk, berinvestasi sekaligus berkontribusi,\" bebernya.Adapun maksud dari kontribusi adalah memberikan manfaat bagi lingkungan dan masyarakat. Kemudian ada juga investor sektor properti asal Kalimantan yang bakal menanamkan modal di IKN', metadata={'source': 'https://finance.detik.com/infrastruktur/d-7101502/ini-bocoran-konglomerat-yang-bakal-susul-aguan-cs-investasi-di-ikn'}),\n",
       " Document(page_content='.Adapun maksud dari kontribusi adalah memberikan manfaat bagi lingkungan dan masyarakat. Kemudian ada juga investor sektor properti asal Kalimantan yang bakal menanamkan modal di IKN.Baca juga: Negara Sudah Habis Rp 35 T buat IKN, Bangun Apa Saja?Agung menyebut investor tersebut merupakan salah satu yang terbesar di Kalimantan dan berpusat di Balikpapan. Investor tersebut biasa mengembangkan hotel, mall, dan sekolah.\"Minggu depan juga ada pengusaha properti juga dari Kalimantan', metadata={'source': 'https://finance.detik.com/infrastruktur/d-7101502/ini-bocoran-konglomerat-yang-bakal-susul-aguan-cs-investasi-di-ikn'}),\n",
       " Document(page_content='. Investor tersebut biasa mengembangkan hotel, mall, dan sekolah.\"Minggu depan juga ada pengusaha properti juga dari Kalimantan. Perusahaan ini besarnya di Kalimantan, di Balikpapan. Dia terbesar di Balikpapan, kawasan mixed-use, ada hotel, ada shopping mall, ada sekolah. Jadi ini wujud partisipasi dari Kalimantan juga. Gotong royong, negara memanggil untuk bangun IKN,\" terang Agung.Untuk investor asing, Agung menyebut pemerintah masih melakukan proses seleksi', metadata={'source': 'https://finance.detik.com/infrastruktur/d-7101502/ini-bocoran-konglomerat-yang-bakal-susul-aguan-cs-investasi-di-ikn'}),\n",
       " Document(page_content='. Jadi ini wujud partisipasi dari Kalimantan juga. Gotong royong, negara memanggil untuk bangun IKN,\" terang Agung.Untuk investor asing, Agung menyebut pemerintah masih melakukan proses seleksi. Namun sudah ada minat investasi yang datang dari Korea Selatan, Prancis, Amerika Serikat (AS) hingga China.Selain itu pada tahap pertama pemerintah masih memprioritaskan investor dalam negeri. Agung menilai pengusaha Indonesia masih mampu mengembangkan kawasan IKN', metadata={'source': 'https://finance.detik.com/infrastruktur/d-7101502/ini-bocoran-konglomerat-yang-bakal-susul-aguan-cs-investasi-di-ikn'}),\n",
       " Document(page_content='.Selain itu pada tahap pertama pemerintah masih memprioritaskan investor dalam negeri. Agung menilai pengusaha Indonesia masih mampu mengembangkan kawasan IKN.\"Jadi asing tadi itu dia pasti akan masuk, dia akan jalan. Tapi satu, kita prioritaskan seperti dikatakan Pak Jokowi dan Pak Bahlil (Bahlil Lahadalia, Menteri Investasi/Kepala BKPM) prioritaskan yang domestik dulu, karena memang area-area ini bisa ditangani investor domestik yang lokal,\" pungkasnya', metadata={'source': 'https://finance.detik.com/infrastruktur/d-7101502/ini-bocoran-konglomerat-yang-bakal-susul-aguan-cs-investasi-di-ikn'}),\n",
       " Document(page_content='.Lihat juga Video: Jokowi Groundbreaking Proyek Hotel Bintang 3-Restoran di IKN[Gambas:Video 20detik](ily/eds)ikn aguan nusantara', metadata={'source': 'https://finance.detik.com/infrastruktur/d-7101502/ini-bocoran-konglomerat-yang-bakal-susul-aguan-cs-investasi-di-ikn'}),\n",
       " Document(page_content='Jakarta - Real Madrid dihantam badai cedera bek tengah. Los Blancos akan belanja pemain di bulan Januari?Kemenangan Madrid atas Villarreal dibayar dengan mahal. Saat bertanding di Santiago Bernabeu pada akhir pekan lalu, El Real menang 4-1 di Santiago Bernabeu.Alaba jatuh setelah mencoba berebut bola dari pemain Villarreal, Gerard Moreno, di tengah lapangan. Cuma merumput setengah jam, dia akhirnya digantikan oleh Nacho Fernandez', metadata={'source': 'https://sport.detik.com/sepakbola/liga-spanyol/d-7101575/real-madrid-krisis-bek-tengah-bakal-beli-pemain-di-januari'}),\n",
       " Document(page_content='.Alaba jatuh setelah mencoba berebut bola dari pemain Villarreal, Gerard Moreno, di tengah lapangan. Cuma merumput setengah jam, dia akhirnya digantikan oleh Nacho Fernandez.\\rADVERTISEMENT\\r\\rSCROLL TO CONTINUE WITH CONTENT\\rBaca juga: Ini yang Bikin Real Madrid Mau Nggak Mau Harus Beli Bek BaruHasil pemeriksaan menunjukkan bahwa Alaba mengalami masalah pada anterior cruciate ligament (ACL). Oleh karena itu, bek asal Austria itu harus absen lama', metadata={'source': 'https://sport.detik.com/sepakbola/liga-spanyol/d-7101575/real-madrid-krisis-bek-tengah-bakal-beli-pemain-di-januari'}),\n",
       " Document(page_content='. Oleh karena itu, bek asal Austria itu harus absen lama.Madrid tinggal mempunyai Antonio Ruediger dan Nacho sebagai pilihan bek tengah. Eder Militao juga sudah menghuni ruang perawatan lebih dulu.Manajer Madrid, Carlo Ancelotti, ditanya pewarta mengenai kemungkinan menambah amunisi lini belakang. Dia menegaskan klub sedang akan melakukan pembahasan.Baca juga: Krisis Bek Tengah, Madrid Bakal Pulangkan Varane?\"Kami berbincang dengan klub, kami akan mengevaluasi itu dalam beberapa hari', metadata={'source': 'https://sport.detik.com/sepakbola/liga-spanyol/d-7101575/real-madrid-krisis-bek-tengah-bakal-beli-pemain-di-januari'}),\n",
       " Document(page_content='. Dia menegaskan klub sedang akan melakukan pembahasan.Baca juga: Krisis Bek Tengah, Madrid Bakal Pulangkan Varane?\"Kami berbincang dengan klub, kami akan mengevaluasi itu dalam beberapa hari. Kami mempunyai waktu untuk melakukan itu karena bursa transfer ditutup pada tanggal 31 (Januari) dan kami mencari solusi yang terbaik,\" kata Ancelotti di Marca.\"Pada saat ini, kami tak terburu-buru. Ini bukan waktunya untuk menyebutkan nama', metadata={'source': 'https://sport.detik.com/sepakbola/liga-spanyol/d-7101575/real-madrid-krisis-bek-tengah-bakal-beli-pemain-di-januari'}),\n",
       " Document(page_content='.\"Pada saat ini, kami tak terburu-buru. Ini bukan waktunya untuk menyebutkan nama. Kalau ada kemungkinan untuk mendatangkan seorang pemain yang bagus untuk klub dan untuk musim ini, kami akan mendatangkannya,\" kata dia menambahkan.Baca juga: Madrid Menang Telak, David Alaba Cedera ACL Simak Video \"Sempat Tertinggal, Real Madrid Bungkam Napoli 4-2\"[Gambas:Video 20detik](cas/aff)real madrid carlo ancelotti', metadata={'source': 'https://sport.detik.com/sepakbola/liga-spanyol/d-7101575/real-madrid-krisis-bek-tengah-bakal-beli-pemain-di-januari'})]"
      ]
     },
     "execution_count": 48,
     "metadata": {},
     "output_type": "execute_result"
    }
   ],
   "source": [
    "docs_2 = text_splitter.split_documents(result_2)\n",
    "docs_2"
   ]
  },
  {
   "cell_type": "code",
   "execution_count": 52,
   "metadata": {},
   "outputs": [],
   "source": [
    "from langchain_google_genai import GoogleGenerativeAIEmbeddings\n",
    "embed_model = GoogleGenerativeAIEmbeddings(model=\"models/embedding-001\")\n"
   ]
  },
  {
   "cell_type": "code",
   "execution_count": 54,
   "metadata": {},
   "outputs": [
    {
     "data": {
      "text/plain": [
       "768"
      ]
     },
     "execution_count": 54,
     "metadata": {},
     "output_type": "execute_result"
    }
   ],
   "source": [
    "len(embed_model.embed_query(\"haloo guys nama saya rafly\"))"
   ]
  },
  {
   "cell_type": "code",
   "execution_count": 58,
   "metadata": {},
   "outputs": [
    {
     "data": {
      "text/plain": [
       "[Document(page_content='Jakarta - Sejumlah konglomerat telah menanamkan modalnya di proyek Ibu Kota Negara (IKN) Nusantara, Kalimantan Timur. Salah satu di antaranya adalah Sugianto Kusuma alias Aguan, yang merupakan pendiri Agung Sedayu Group.Selain itu, ada nama Sukanto Tanoto yang disebut bakal masuk ke proyek IKN. Hal ini diungkapkan langsung Deputi Pendanaan dan Investasi Otorita IKN (OIKN), Agung Wicaksono.\"Ada, ada banyak ya (konglomerat). Saya sering ditanya tentang Sukanto Tanoto misalnya, iya ada', metadata={'source': 'https://finance.detik.com/infrastruktur/d-7101502/ini-bocoran-konglomerat-yang-bakal-susul-aguan-cs-investasi-di-ikn'}),\n",
       " Document(page_content='. Hal ini diungkapkan langsung Deputi Pendanaan dan Investasi Otorita IKN (OIKN), Agung Wicaksono.\"Ada, ada banyak ya (konglomerat). Saya sering ditanya tentang Sukanto Tanoto misalnya, iya ada. Tapi kita masih proses, ada seleksi, ada proses mengatur yang prioritas di mana areanya,\" sebut Agung dalam wawancara eksklusif bersama detikcom, dikutip Rabu (20/12/2023)', metadata={'source': 'https://finance.detik.com/infrastruktur/d-7101502/ini-bocoran-konglomerat-yang-bakal-susul-aguan-cs-investasi-di-ikn'}),\n",
       " Document(page_content='. Tapi kita masih proses, ada seleksi, ada proses mengatur yang prioritas di mana areanya,\" sebut Agung dalam wawancara eksklusif bersama detikcom, dikutip Rabu (20/12/2023).\\r    ADVERTISEMENT\\r  \\r    SCROLL TO CONTINUE WITH CONTENT\\r  Agung menyebut sektor yang kemungkinan digarap Sukanto Tanoto adalah pendidikan dan properti. Namun ia juga menginginkan ada kontribusi dari para investor kepada negara.\"Ada pendidikan, mungkin ada propertinya. Tapi ya tadi kita ingin ada kontribusi', metadata={'source': 'https://finance.detik.com/infrastruktur/d-7101502/ini-bocoran-konglomerat-yang-bakal-susul-aguan-cs-investasi-di-ikn'}),\n",
       " Document(page_content='. Namun ia juga menginginkan ada kontribusi dari para investor kepada negara.\"Ada pendidikan, mungkin ada propertinya. Tapi ya tadi kita ingin ada kontribusi. Pokoknya ada surat ke kita dari perusahaan itu kita ingin supaya ada kontribusi untuk bangun negara,\" lanjutnya.Selain itu investor di sektor transportasi umum juga bakal masuk di IKN dalam waktu dekat. Sayangnya Agung belum mau membocorkan siapa sosok yang dimaksud', metadata={'source': 'https://finance.detik.com/infrastruktur/d-7101502/ini-bocoran-konglomerat-yang-bakal-susul-aguan-cs-investasi-di-ikn'}),\n",
       " Document(page_content='.Selain itu investor di sektor transportasi umum juga bakal masuk di IKN dalam waktu dekat. Sayangnya Agung belum mau membocorkan siapa sosok yang dimaksud.\"Kemudian, ya dalam waktu dekat ya saya nggak bisa sebut merknya, tapi transportasi umum paling, ya paling bersejarah di Indonesia, swasta ya. Itu juga akan masuk dalam waktu dekat. Dan melihat contoh-contoh tadi ya, Aguan, transportasi, Sukanto Tanoto dan lain, mereka itu masuk, berinvestasi sekaligus berkontribusi,\" bebernya', metadata={'source': 'https://finance.detik.com/infrastruktur/d-7101502/ini-bocoran-konglomerat-yang-bakal-susul-aguan-cs-investasi-di-ikn'}),\n",
       " Document(page_content='. Itu juga akan masuk dalam waktu dekat. Dan melihat contoh-contoh tadi ya, Aguan, transportasi, Sukanto Tanoto dan lain, mereka itu masuk, berinvestasi sekaligus berkontribusi,\" bebernya.Adapun maksud dari kontribusi adalah memberikan manfaat bagi lingkungan dan masyarakat. Kemudian ada juga investor sektor properti asal Kalimantan yang bakal menanamkan modal di IKN', metadata={'source': 'https://finance.detik.com/infrastruktur/d-7101502/ini-bocoran-konglomerat-yang-bakal-susul-aguan-cs-investasi-di-ikn'}),\n",
       " Document(page_content='.Adapun maksud dari kontribusi adalah memberikan manfaat bagi lingkungan dan masyarakat. Kemudian ada juga investor sektor properti asal Kalimantan yang bakal menanamkan modal di IKN.Baca juga: Negara Sudah Habis Rp 35 T buat IKN, Bangun Apa Saja?Agung menyebut investor tersebut merupakan salah satu yang terbesar di Kalimantan dan berpusat di Balikpapan. Investor tersebut biasa mengembangkan hotel, mall, dan sekolah.\"Minggu depan juga ada pengusaha properti juga dari Kalimantan', metadata={'source': 'https://finance.detik.com/infrastruktur/d-7101502/ini-bocoran-konglomerat-yang-bakal-susul-aguan-cs-investasi-di-ikn'}),\n",
       " Document(page_content='. Investor tersebut biasa mengembangkan hotel, mall, dan sekolah.\"Minggu depan juga ada pengusaha properti juga dari Kalimantan. Perusahaan ini besarnya di Kalimantan, di Balikpapan. Dia terbesar di Balikpapan, kawasan mixed-use, ada hotel, ada shopping mall, ada sekolah. Jadi ini wujud partisipasi dari Kalimantan juga. Gotong royong, negara memanggil untuk bangun IKN,\" terang Agung.Untuk investor asing, Agung menyebut pemerintah masih melakukan proses seleksi', metadata={'source': 'https://finance.detik.com/infrastruktur/d-7101502/ini-bocoran-konglomerat-yang-bakal-susul-aguan-cs-investasi-di-ikn'}),\n",
       " Document(page_content='. Jadi ini wujud partisipasi dari Kalimantan juga. Gotong royong, negara memanggil untuk bangun IKN,\" terang Agung.Untuk investor asing, Agung menyebut pemerintah masih melakukan proses seleksi. Namun sudah ada minat investasi yang datang dari Korea Selatan, Prancis, Amerika Serikat (AS) hingga China.Selain itu pada tahap pertama pemerintah masih memprioritaskan investor dalam negeri. Agung menilai pengusaha Indonesia masih mampu mengembangkan kawasan IKN', metadata={'source': 'https://finance.detik.com/infrastruktur/d-7101502/ini-bocoran-konglomerat-yang-bakal-susul-aguan-cs-investasi-di-ikn'}),\n",
       " Document(page_content='.Selain itu pada tahap pertama pemerintah masih memprioritaskan investor dalam negeri. Agung menilai pengusaha Indonesia masih mampu mengembangkan kawasan IKN.\"Jadi asing tadi itu dia pasti akan masuk, dia akan jalan. Tapi satu, kita prioritaskan seperti dikatakan Pak Jokowi dan Pak Bahlil (Bahlil Lahadalia, Menteri Investasi/Kepala BKPM) prioritaskan yang domestik dulu, karena memang area-area ini bisa ditangani investor domestik yang lokal,\" pungkasnya', metadata={'source': 'https://finance.detik.com/infrastruktur/d-7101502/ini-bocoran-konglomerat-yang-bakal-susul-aguan-cs-investasi-di-ikn'}),\n",
       " Document(page_content='.Lihat juga Video: Jokowi Groundbreaking Proyek Hotel Bintang 3-Restoran di IKN[Gambas:Video 20detik](ily/eds)ikn aguan nusantara', metadata={'source': 'https://finance.detik.com/infrastruktur/d-7101502/ini-bocoran-konglomerat-yang-bakal-susul-aguan-cs-investasi-di-ikn'}),\n",
       " Document(page_content='Jakarta - Real Madrid dihantam badai cedera bek tengah. Los Blancos akan belanja pemain di bulan Januari?Kemenangan Madrid atas Villarreal dibayar dengan mahal. Saat bertanding di Santiago Bernabeu pada akhir pekan lalu, El Real menang 4-1 di Santiago Bernabeu.Alaba jatuh setelah mencoba berebut bola dari pemain Villarreal, Gerard Moreno, di tengah lapangan. Cuma merumput setengah jam, dia akhirnya digantikan oleh Nacho Fernandez', metadata={'source': 'https://sport.detik.com/sepakbola/liga-spanyol/d-7101575/real-madrid-krisis-bek-tengah-bakal-beli-pemain-di-januari'}),\n",
       " Document(page_content='.Alaba jatuh setelah mencoba berebut bola dari pemain Villarreal, Gerard Moreno, di tengah lapangan. Cuma merumput setengah jam, dia akhirnya digantikan oleh Nacho Fernandez.\\rADVERTISEMENT\\r\\rSCROLL TO CONTINUE WITH CONTENT\\rBaca juga: Ini yang Bikin Real Madrid Mau Nggak Mau Harus Beli Bek BaruHasil pemeriksaan menunjukkan bahwa Alaba mengalami masalah pada anterior cruciate ligament (ACL). Oleh karena itu, bek asal Austria itu harus absen lama', metadata={'source': 'https://sport.detik.com/sepakbola/liga-spanyol/d-7101575/real-madrid-krisis-bek-tengah-bakal-beli-pemain-di-januari'}),\n",
       " Document(page_content='. Oleh karena itu, bek asal Austria itu harus absen lama.Madrid tinggal mempunyai Antonio Ruediger dan Nacho sebagai pilihan bek tengah. Eder Militao juga sudah menghuni ruang perawatan lebih dulu.Manajer Madrid, Carlo Ancelotti, ditanya pewarta mengenai kemungkinan menambah amunisi lini belakang. Dia menegaskan klub sedang akan melakukan pembahasan.Baca juga: Krisis Bek Tengah, Madrid Bakal Pulangkan Varane?\"Kami berbincang dengan klub, kami akan mengevaluasi itu dalam beberapa hari', metadata={'source': 'https://sport.detik.com/sepakbola/liga-spanyol/d-7101575/real-madrid-krisis-bek-tengah-bakal-beli-pemain-di-januari'}),\n",
       " Document(page_content='. Dia menegaskan klub sedang akan melakukan pembahasan.Baca juga: Krisis Bek Tengah, Madrid Bakal Pulangkan Varane?\"Kami berbincang dengan klub, kami akan mengevaluasi itu dalam beberapa hari. Kami mempunyai waktu untuk melakukan itu karena bursa transfer ditutup pada tanggal 31 (Januari) dan kami mencari solusi yang terbaik,\" kata Ancelotti di Marca.\"Pada saat ini, kami tak terburu-buru. Ini bukan waktunya untuk menyebutkan nama', metadata={'source': 'https://sport.detik.com/sepakbola/liga-spanyol/d-7101575/real-madrid-krisis-bek-tengah-bakal-beli-pemain-di-januari'}),\n",
       " Document(page_content='.\"Pada saat ini, kami tak terburu-buru. Ini bukan waktunya untuk menyebutkan nama. Kalau ada kemungkinan untuk mendatangkan seorang pemain yang bagus untuk klub dan untuk musim ini, kami akan mendatangkannya,\" kata dia menambahkan.Baca juga: Madrid Menang Telak, David Alaba Cedera ACL Simak Video \"Sempat Tertinggal, Real Madrid Bungkam Napoli 4-2\"[Gambas:Video 20detik](cas/aff)real madrid carlo ancelotti', metadata={'source': 'https://sport.detik.com/sepakbola/liga-spanyol/d-7101575/real-madrid-krisis-bek-tengah-bakal-beli-pemain-di-januari'})]"
      ]
     },
     "execution_count": 58,
     "metadata": {},
     "output_type": "execute_result"
    }
   ],
   "source": [
    "docs_2"
   ]
  },
  {
   "cell_type": "code",
   "execution_count": 59,
   "metadata": {},
   "outputs": [],
   "source": [
    "from langchain.vectorstores import FAISS\n",
    "db = FAISS.from_documents(docs_2, embed_model)"
   ]
  },
  {
   "cell_type": "code",
   "execution_count": 61,
   "metadata": {},
   "outputs": [
    {
     "data": {
      "text/plain": [
       "[Document(page_content='.Lihat juga Video: Jokowi Groundbreaking Proyek Hotel Bintang 3-Restoran di IKN[Gambas:Video 20detik](ily/eds)ikn aguan nusantara', metadata={'source': 'https://finance.detik.com/infrastruktur/d-7101502/ini-bocoran-konglomerat-yang-bakal-susul-aguan-cs-investasi-di-ikn'}),\n",
       " Document(page_content='. Hal ini diungkapkan langsung Deputi Pendanaan dan Investasi Otorita IKN (OIKN), Agung Wicaksono.\"Ada, ada banyak ya (konglomerat). Saya sering ditanya tentang Sukanto Tanoto misalnya, iya ada. Tapi kita masih proses, ada seleksi, ada proses mengatur yang prioritas di mana areanya,\" sebut Agung dalam wawancara eksklusif bersama detikcom, dikutip Rabu (20/12/2023)', metadata={'source': 'https://finance.detik.com/infrastruktur/d-7101502/ini-bocoran-konglomerat-yang-bakal-susul-aguan-cs-investasi-di-ikn'}),\n",
       " Document(page_content='. Jadi ini wujud partisipasi dari Kalimantan juga. Gotong royong, negara memanggil untuk bangun IKN,\" terang Agung.Untuk investor asing, Agung menyebut pemerintah masih melakukan proses seleksi. Namun sudah ada minat investasi yang datang dari Korea Selatan, Prancis, Amerika Serikat (AS) hingga China.Selain itu pada tahap pertama pemerintah masih memprioritaskan investor dalam negeri. Agung menilai pengusaha Indonesia masih mampu mengembangkan kawasan IKN', metadata={'source': 'https://finance.detik.com/infrastruktur/d-7101502/ini-bocoran-konglomerat-yang-bakal-susul-aguan-cs-investasi-di-ikn'}),\n",
       " Document(page_content='.\"Pada saat ini, kami tak terburu-buru. Ini bukan waktunya untuk menyebutkan nama. Kalau ada kemungkinan untuk mendatangkan seorang pemain yang bagus untuk klub dan untuk musim ini, kami akan mendatangkannya,\" kata dia menambahkan.Baca juga: Madrid Menang Telak, David Alaba Cedera ACL Simak Video \"Sempat Tertinggal, Real Madrid Bungkam Napoli 4-2\"[Gambas:Video 20detik](cas/aff)real madrid carlo ancelotti', metadata={'source': 'https://sport.detik.com/sepakbola/liga-spanyol/d-7101575/real-madrid-krisis-bek-tengah-bakal-beli-pemain-di-januari'})]"
      ]
     },
     "execution_count": 61,
     "metadata": {},
     "output_type": "execute_result"
    }
   ],
   "source": [
    "db.similarity_search(\"jokowi adalah?\")"
   ]
  },
  {
   "cell_type": "code",
   "execution_count": 19,
   "metadata": {},
   "outputs": [
    {
     "data": {
      "text/plain": [
       "True"
      ]
     },
     "execution_count": 19,
     "metadata": {},
     "output_type": "execute_result"
    }
   ],
   "source": [
    "from dotenv import load_dotenv\n",
    "load_dotenv()"
   ]
  },
  {
   "cell_type": "code",
   "execution_count": 20,
   "metadata": {},
   "outputs": [
    {
     "name": "stderr",
     "output_type": "stream",
     "text": [
      "d:\\Code Workspace\\Personal Project\\Personal Project - LangChain Project\\venv\\Lib\\site-packages\\tqdm\\auto.py:21: TqdmWarning: IProgress not found. Please update jupyter and ipywidgets. See https://ipywidgets.readthedocs.io/en/stable/user_install.html\n",
      "  from .autonotebook import tqdm as notebook_tqdm\n",
      "d:\\Code Workspace\\Personal Project\\Personal Project - LangChain Project\\venv\\Lib\\site-packages\\huggingface_hub\\utils\\_deprecation.py:127: FutureWarning: '__init__' (from 'huggingface_hub.inference_api') is deprecated and will be removed from version '1.0'. `InferenceApi` client is deprecated in favor of the more feature-complete `InferenceClient`. Check out this guide to learn how to convert your script to use it: https://huggingface.co/docs/huggingface_hub/guides/inference#legacy-inferenceapi-client.\n",
      "  warnings.warn(warning_message, FutureWarning)\n"
     ]
    }
   ],
   "source": [
    "llm = HuggingFaceHub(\n",
    "    repo_id = \"cahya/gpt2-small-indonesian-522M\",\n",
    "    model_kwargs = {\n",
    "                'max_new_tokens': 249, \n",
    "                'temperature': 0.01,\n",
    "            }\n",
    ")"
   ]
  },
  {
   "cell_type": "code",
   "execution_count": 21,
   "metadata": {},
   "outputs": [],
   "source": [
    "from langchain_google_genai import ChatGoogleGenerativeAI"
   ]
  },
  {
   "cell_type": "code",
   "execution_count": 23,
   "metadata": {},
   "outputs": [],
   "source": [
    "llm = ChatGoogleGenerativeAI(model=\"gemini-pro\")"
   ]
  },
  {
   "cell_type": "code",
   "execution_count": 62,
   "metadata": {},
   "outputs": [
    {
     "name": "stdout",
     "output_type": "stream",
     "text": [
      "Ya, saya bisa berbahasa Indonesia. Saya dapat memahami dan merespons pertanyaan dalam bahasa Indonesia. Berikut beberapa contoh tanggapan saya dalam Bahasa Indonesia:\n",
      "\n",
      "* Selamat pagi! Apa yang dapat saya bantu?\n",
      "* Terima kasih telah menghubungi saya. Bagaimana kabar Anda hari ini?\n",
      "* Saya mengerti. Saya akan mencoba yang terbaik untuk membantu Anda.\n",
      "* Maaf, saya tidak mengerti. Bisakah Anda ulangi pertanyaan Anda?\n",
      "* Tentu, saya dapat membantu Anda dengan itu.\n",
      "\n",
      "Saya terus belajar dan meningkatkan kemampuan bahasa Indonesia saya setiap hari. Saya berharap dapat membantu Anda dengan pertanyaan apa pun yang mungkin Anda miliki.\n",
      "\n",
      "Selain itu, saya juga dapat menerjemahkan teks dari bahasa Inggris ke bahasa Indonesia dan sebaliknya. Jika Anda memiliki teks yang ingin Anda terjemahkan, silakan kirimkan kepada saya dan saya akan dengan senang hati membantu Anda.\n",
      "\n",
      "Saya harap tanggapan ini bermanfaat bagi Anda. Jangan ragu untuk menghubungi saya jika Anda memiliki pertanyaan lebih lanjut.\n"
     ]
    }
   ],
   "source": [
    "result = llm.invoke(\"bisakah anda berbahasa indonesia?\")\n",
    "print(result.content)"
   ]
  },
  {
   "cell_type": "code",
   "execution_count": 65,
   "metadata": {},
   "outputs": [],
   "source": [
    "import os\n",
    "import pickle\n",
    "from langchain.chains import RetrievalQAWithSourcesChain\n",
    "file_name = \"faiss_store_openai.pkl\"  # Provide a filename\n",
    "file_path = os.path.join(\"vectordb\", file_name)  # Join the directory and filename"
   ]
  },
  {
   "cell_type": "code",
   "execution_count": 72,
   "metadata": {},
   "outputs": [
    {
     "data": {
      "text/plain": [
       "<langchain_community.vectorstores.faiss.FAISS at 0x2099bfa3710>"
      ]
     },
     "execution_count": 72,
     "metadata": {},
     "output_type": "execute_result"
    }
   ],
   "source": [
    "vector_stores"
   ]
  },
  {
   "cell_type": "code",
   "execution_count": 66,
   "metadata": {},
   "outputs": [],
   "source": [
    "if os.path.exists(file_path):\n",
    "    with open(file_path, 'rb') as f:\n",
    "        vector_stores = pickle.load(f)"
   ]
  },
  {
   "cell_type": "code",
   "execution_count": 78,
   "metadata": {},
   "outputs": [
    {
     "data": {
      "text/plain": [
       "[Document(page_content='jangka panjang untuk mendukung operasional Tokopedia.Menteri Perdagangan Zulkifli Hasan alias Zulhas masih memperbolehkan TikTok bertransaksi di dalam platform sendiri meskipun sudah bekerja sama dengan Tokopedia. Ia memberikan waktu empat bulan bagi TikTok untuk memindahkan transaksinya ke Tokopedia.[Gambas:Video CNN] (fby/pta)', metadata={'source': 'https://www.cnnindonesia.com/ekonomi/20231221163848-92-1040314/teten-sentil-tiktok-masih-langgar-aturan-usai-beli-tokopedia'}),\n",
       " Document(page_content='berkomunikasi dengan kementerian lainnya, namun kewenangan ada di tangan Kementerian Perdagangan.\"Kita juga sebetulnya menunggu pernyataan resmi dari TikTok. Ini kan temuannya ada di TikTok, bukan Tokopedia,\" katanya.TikTok Shop kembali beroperasi setelah resmi bermitra dengan Tokopedia mulai Senin (11/12) lalu. Dalam kombinasi itu, TikTok memiliki pengendalian atas PT Tokopedia.TikTok juga menginvestasikan lebih dari US$1,5 miliar, sebagai komitmen jangka panjang untuk mendukung operasional', metadata={'source': 'https://www.cnnindonesia.com/ekonomi/20231221163848-92-1040314/teten-sentil-tiktok-masih-langgar-aturan-usai-beli-tokopedia'}),\n",
       " Document(page_content='belakangnya itu akan di Tokopedia. Ini juga butuh waktu,\" kata dia.Kementerian Perdagangan (Kemendag) juga sudah merespons soal belum berubahnya mekanisme jual beli di TikTok. Padahal TikTok telah menggandeng Tokopedia.Menteri Perdagangan Zulkifli\\xa0Hasan\\xa0(Zulhas) menjelaskan saat ini TikTok bersama Tokopedia masih melakukan serangkaian uji coba, termasuk proses transisi mekanisme penjualan.\"Sekarang lagi migrasi, lagi dicoba, baru mulai, namanya juga uji coba,\" kata Zulhas di Tokopedia Tower,', metadata={'source': 'https://www.cnnindonesia.com/ekonomi/20231221182718-92-1040376/tokopedia-beber-alasan-tiktok-shop-masih-transaksi-di-platform-sendiri'}),\n",
       " Document(page_content='buka pada Selasa (12/12) ini setelah mereka resmi bermitra dengan Tokopedia. Dalam pernyataan resmi bersama yang dirilis pada Senin ini, melalui kemitraan yang baru terjalin, bisnis Tokopedia dan TikTok Shop Indonesia akan dikombinasikan di bawah PT Tokopedia.Selain itu, fitur layanan belanja dalam aplikasi TikTok di Indonesia akan dioperasikan dan dikelola oleh PT Tokopedia.\"Kemitraan strategis ini akan diawali dengan periode uji coba yang dilaksanakan dengan konsultasi dan pengawasan dari', metadata={'source': 'https://www.cnnindonesia.com/ekonomi/20231214144452-92-1037297/lazada-dapat-suntikan-rp9-t-dari-alibaba-saat-tiktok-gandeng-tokopedia'})]"
      ]
     },
     "execution_count": 78,
     "metadata": {},
     "output_type": "execute_result"
    }
   ],
   "source": [
    "vector_stores.similarity_search('topik apa yang dibahas')"
   ]
  },
  {
   "cell_type": "code",
   "execution_count": 67,
   "metadata": {},
   "outputs": [],
   "source": [
    "chain = RetrievalQAWithSourcesChain.from_llm(\n",
    "            llm = llm,\n",
    "            retriever = vector_stores.as_retriever()\n",
    "        )"
   ]
  },
  {
   "cell_type": "code",
   "execution_count": 81,
   "metadata": {},
   "outputs": [],
   "source": [
    "result = chain(\n",
    "            {\"question\": 'mengapa tiktok masih melanggar peraturan'},\n",
    "            return_only_outputs= True\n",
    "        ) # result will be a dictionary of this format --> {\"answer\": \"\", \"sources\": [] }"
   ]
  },
  {
   "cell_type": "code",
   "execution_count": 82,
   "metadata": {},
   "outputs": [
    {
     "data": {
      "text/plain": [
       "{'answer': 'I do not have sufficient information to answer this question.\\n',\n",
       " 'sources': ''}"
      ]
     },
     "execution_count": 82,
     "metadata": {},
     "output_type": "execute_result"
    }
   ],
   "source": [
    "result"
   ]
  },
  {
   "cell_type": "code",
   "execution_count": null,
   "metadata": {},
   "outputs": [],
   "source": []
  }
 ],
 "metadata": {
  "kernelspec": {
   "display_name": "Python 3",
   "language": "python",
   "name": "python3"
  },
  "language_info": {
   "codemirror_mode": {
    "name": "ipython",
    "version": 3
   },
   "file_extension": ".py",
   "mimetype": "text/x-python",
   "name": "python",
   "nbconvert_exporter": "python",
   "pygments_lexer": "ipython3",
   "version": "3.11.4"
  }
 },
 "nbformat": 4,
 "nbformat_minor": 2
}
