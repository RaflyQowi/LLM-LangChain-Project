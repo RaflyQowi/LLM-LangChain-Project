{
 "cells": [
  {
   "cell_type": "markdown",
   "metadata": {},
   "source": [
    "### 1. Import Dependencies"
   ]
  },
  {
   "cell_type": "code",
   "execution_count": 79,
   "metadata": {},
   "outputs": [],
   "source": [
    "from dotenv import load_dotenv\n",
    "from PyPDF2 import PdfReader\n",
    "from langchain.text_splitter import RecursiveCharacterTextSplitter\n",
    "from langchain.embeddings import HuggingFaceEmbeddings\n",
    "from langchain.vectorstores import FAISS\n",
    "from langchain.llms import HuggingFaceHub\n",
    "from langchain.memory import ConversationBufferMemory\n",
    "from langchain.chains import ConversationalRetrievalChain\n",
    "\n",
    "load_dotenv();"
   ]
  },
  {
   "cell_type": "markdown",
   "metadata": {},
   "source": [
    "### 2. Read PDF file"
   ]
  },
  {
   "cell_type": "code",
   "execution_count": 80,
   "metadata": {},
   "outputs": [
    {
     "data": {
      "text/plain": [
       "['document\\\\yolo.pdf']"
      ]
     },
     "execution_count": 80,
     "metadata": {},
     "output_type": "execute_result"
    }
   ],
   "source": [
    "a = [1,2,3]\n",
    "list(\"document\\yolo.pdf\".split(\" \"))"
   ]
  },
  {
   "cell_type": "code",
   "execution_count": 54,
   "metadata": {},
   "outputs": [
    {
     "data": {
      "text/plain": [
       "str"
      ]
     },
     "execution_count": 54,
     "metadata": {},
     "output_type": "execute_result"
    }
   ],
   "source": [
    "type(\"a\")"
   ]
  },
  {
   "cell_type": "code",
   "execution_count": 55,
   "metadata": {},
   "outputs": [],
   "source": [
    "def read_multiple_pdf(files):\n",
    "    if type(files) == str:\n",
    "        files = list(\"document\\yolo.pdf\".split(\" \"))\n",
    "    texts = \"\"\n",
    "    for file in files:\n",
    "        docs = PdfReader(file)\n",
    "        for text in docs.pages:\n",
    "            texts += (text.extract_text())\n",
    "        return texts"
   ]
  },
  {
   "cell_type": "code",
   "execution_count": 56,
   "metadata": {},
   "outputs": [
    {
     "data": {
      "text/plain": [
       "(42084,\n",
       " 'You Only Look Once:\\nUniﬁed, Real-Time Object Detection\\nJoseph Redmon\\x03, Santosh Divvala\\x03y, Ross Girsh')"
      ]
     },
     "execution_count": 56,
     "metadata": {},
     "output_type": "execute_result"
    }
   ],
   "source": [
    "file_path = \"document\\yolo.pdf\"\n",
    "docs = read_multiple_pdf(file_path)\n",
    "len(docs), docs[:100]"
   ]
  },
  {
   "cell_type": "markdown",
   "metadata": {},
   "source": [
    "### 3. Split PDF into Chunks"
   ]
  },
  {
   "cell_type": "code",
   "execution_count": 4,
   "metadata": {},
   "outputs": [],
   "source": [
    "def chunk_docs(document, chunk_size = 500, chunk_overlap = 50, separators=\"\\n\"):\n",
    "    text_splitter = RecursiveCharacterTextSplitter(\n",
    "        separators=separators,\n",
    "        chunk_size = chunk_size,\n",
    "        chunk_overlap = chunk_overlap\n",
    "    )\n",
    "    chunk = text_splitter.split_text(document)\n",
    "    return chunk"
   ]
  },
  {
   "cell_type": "code",
   "execution_count": 5,
   "metadata": {},
   "outputs": [
    {
     "data": {
      "text/plain": [
       "(91,\n",
       " ['You Only Look Once:\\nUniﬁed, Real-Time Object Detection\\nJoseph Redmon\\x03, Santosh Divvala\\x03y, Ross Girshick{, Ali Farhadi\\x03y\\nUniversity of Washington\\x03, Allen Institute for AIy, Facebook AI Research{\\nhttp://pjreddie.com/yolo/\\nAbstract\\nWe present YOLO, a new approach to object detection.\\nPrior work on object detection repurposes classiﬁers to per-\\nform detection. Instead, we frame object detection as a re-\\ngression problem to spatially separated bounding boxes and',\n",
       "  'associated class probabilities. A single neural network pre-\\ndicts bounding boxes and class probabilities directly from\\nfull images in one evaluation. Since the whole detection\\npipeline is a single network, it can be optimized end-to-end\\ndirectly on detection performance.\\nOur uniﬁed architecture is extremely fast. Our base\\nYOLO model processes images in real-time at 45 frames\\nper second. A smaller version of the network, Fast YOLO,\\nprocesses an astounding 155 frames per second while',\n",
       "  'still achieving double the mAP of other real-time detec-\\ntors. Compared to state-of-the-art detection systems, YOLO\\nmakes more localization errors but is less likely to predict\\nfalse positives on background. Finally, YOLO learns very\\ngeneral representations of objects. It outperforms other de-\\ntection methods, including DPM and R-CNN, when gener-\\nalizing from natural images to other domains like artwork.\\n1. Introduction\\nHumans glance at an image and instantly know what ob-',\n",
       "  'jects are in the image, where they are, and how they inter-\\nact. The human visual system is fast and accurate, allow-\\ning us to perform complex tasks like driving with little con-\\nscious thought. Fast, accurate algorithms for object detec-\\ntion would allow computers to drive cars without special-\\nized sensors, enable assistive devices to convey real-time\\nscene information to human users, and unlock the potential\\nfor general purpose, responsive robotic systems.',\n",
       "  'for general purpose, responsive robotic systems.\\nCurrent detection systems repurpose classiﬁers to per-\\nform detection. To detect an object, these systems take a\\nclassiﬁer for that object and evaluate it at various locations\\nand scales in a test image. Systems like deformable parts\\nmodels (DPM) use a sliding window approach where the\\nclassiﬁer is run at evenly spaced locations over the entire\\nimage [10].\\nMore recent approaches like R-CNN use region proposal\\n1. Resize image.'])"
      ]
     },
     "execution_count": 5,
     "metadata": {},
     "output_type": "execute_result"
    }
   ],
   "source": [
    "chunks = chunk_docs(docs)\n",
    "len(chunks), chunks[:5]"
   ]
  },
  {
   "cell_type": "markdown",
   "metadata": {},
   "source": [
    "### 4. Embeds the data"
   ]
  },
  {
   "cell_type": "code",
   "execution_count": 6,
   "metadata": {},
   "outputs": [
    {
     "name": "stderr",
     "output_type": "stream",
     "text": [
      "d:\\Code Workspace\\Personal Project\\Personal Project - LangChain Project\\venv\\Lib\\site-packages\\tqdm\\auto.py:21: TqdmWarning: IProgress not found. Please update jupyter and ipywidgets. See https://ipywidgets.readthedocs.io/en/stable/user_install.html\n",
      "  from .autonotebook import tqdm as notebook_tqdm\n"
     ]
    },
    {
     "name": "stdout",
     "output_type": "stream",
     "text": [
      "The Dimension of embedding: 384\n"
     ]
    }
   ],
   "source": [
    "embeddings = HuggingFaceEmbeddings(model_name=\"sentence-transformers/all-MiniLM-L12-v2\")\n",
    "print(f\"The Dimension of embedding: {len(embeddings.embed_query('Hello World'))}\")"
   ]
  },
  {
   "cell_type": "code",
   "execution_count": 27,
   "metadata": {},
   "outputs": [],
   "source": [
    "def embedding_chunks(chunk, model_name = \"sentence-transformers/all-MiniLM-L12-v2\"):\n",
    "    embeddings = HuggingFaceEmbeddings(model_name=model_name)\n",
    "    vector_stores = FAISS.from_texts(chunks, embeddings)\n",
    "    return vector_stores"
   ]
  },
  {
   "cell_type": "code",
   "execution_count": 28,
   "metadata": {},
   "outputs": [],
   "source": [
    "vector_stores = embedding_chunks(chunks)"
   ]
  },
  {
   "cell_type": "code",
   "execution_count": 29,
   "metadata": {},
   "outputs": [
    {
     "data": {
      "text/plain": [
       "[Document(page_content='other real-time systems. For a demo of our system running\\nin real-time on a webcam please see our project webpage:\\nhttp://pjreddie.com/yolo/ .\\nSecond, YOLO reasons globally about the image when\\n1arXiv:1506.02640v5  [cs.CV]  9 May 2016making predictions. Unlike sliding window and region\\nproposal-based techniques, YOLO sees the entire image\\nduring training and test time so it implicitly encodes contex-\\ntual information about classes as well as their appearance.'),\n",
       " Document(page_content='a small beneﬁt while YOLO provides a signiﬁcant performance\\nboost.VOC 2012 test mAP aero bike bird boat bottle bus car cat chair cow table dog horse mbike personplant sheep sofa train tv\\nMR CNN MORE DATA [11] 73.9 85.5 82.9 76.6 57.8 62.7 79.4 77.2 86.6 55.0 79.1 62.2 87.0 83.4 84.7 78.9 45.3 73.4 65.8 80.3 74.0\\nHyperNet VGG 71.4 84.2 78.5 73.6 55.6 53.7 78.7 79.8 87.7 49.6 74.9 52.1 86.0 81.7 83.3 81.8 48.6 73.5 59.4 79.9 65.7'),\n",
       " Document(page_content='and height directly.\\nYOLO predicts multiple bounding boxes per grid cell.\\nAt training time we only want one bounding box predictor\\nto be responsible for each object. We assign one predictor\\nto be “responsible” for predicting an object based on which\\nprediction has the highest current IOU with the ground\\ntruth. This leads to specialization between the bounding box\\npredictors. Each predictor gets better at predicting certain\\nsizes, aspect ratios, or classes of object, improving overall\\nrecall.'),\n",
       " Document(page_content='On the VOC 2012 test set, YOLO scores 57.9% mAP.\\nThis is lower than the current state of the art, closer to\\nthe original R-CNN using VGG-16, see Table 3. Our sys-\\ntem struggles with small objects compared to its closest\\ncompetitors. On categories like bottle ,sheep , and\\ntv/monitor YOLO scores 8-10% lower than R-CNN or\\nFeature Edit. However, on other categories like cat and\\ntrain YOLO achieves higher performance.\\nOur combined Fast R-CNN + YOLO model is one of the'),\n",
       " Document(page_content='YOLO has good performance on VOC 2007 and its AP\\ndegrades less than other methods when applied to artwork.\\nLike DPM, YOLO models the size and shape of objects,\\nas well as relationships between objects and where objects\\ncommonly appear. Artwork and natural images are very\\ndifferent on a pixel level but they are similar in terms of\\nthe size and shape of objects, thus YOLO can still predict\\ngood bounding boxes and detections.\\n5. Real-Time Detection In The Wild'),\n",
       " Document(page_content='the boundaries of fast object detection. Fast YOLO uses a\\nneural network with fewer convolutional layers (9 instead\\nof 24) and fewer ﬁlters in those layers. Other than the size\\nof the network, all training and testing parameters are the\\nsame between YOLO and Fast YOLO.448\\n448\\n3\\n7\\n7\\nConv. Layer\\n7x7x64-s-2\\nMaxpool Layer\\n2x2-s-2\\n3\\n3112\\n112\\n192\\n3\\n356\\n56\\n256\\nConn. Layer4096\\nConn. Layer Conv. Layer\\n3x3x192\\nMaxpool Layer\\n2x2-s-2Conv. Layers\\n1x1x128\\n3x3x256\\n1x1x256\\n3x3x512\\nMaxpool Layer\\n2x2-s-2\\n3\\n328'),\n",
       " Document(page_content='play the detections.\\nThe resulting system is interactive and engaging. While\\nYOLO processes images individually, when attached to a\\nwebcam it functions like a tracking system, detecting ob-\\njects as they move around and change in appearance. A\\ndemo of the system and the source code can be found on\\nour project website: http://pjreddie.com/yolo/ .\\n6. Conclusion\\nWe introduce YOLO, a uniﬁed model for object detec-'),\n",
       " Document(page_content='\\x0fBackground: IOU <:1for any object\\nFigure 4 shows the breakdown of each error type aver-\\naged across all 20 classes.\\nYOLO struggles to localize objects correctly. Localiza-\\ntion errors account for more of YOLO’s errors than all other\\nsources combined. Fast R-CNN makes much fewer local-\\nization errors but far more background errors. 13.6% of\\nit’s top detections are false positives that don’t contain any\\nobjects. Fast R-CNN is almost 3x more likely to predict\\nbackground detections than YOLO.'),\n",
       " Document(page_content='5. Real-Time Detection In The Wild\\nYOLO is a fast, accurate object detector, making it ideal\\nfor computer vision applications. We connect YOLO to a\\nwebcam and verify that it maintains real-time performance,Poselets\\nRCNN\\nD&THumans\\nDPMYOLO\\n(a)Picasso Dataset precision-recall curves.VOC 2007 Picasso People-Art\\nAP AP BestF1 AP\\nYOLO 59.2 53.3 0.590 45\\nR-CNN 54.2 10.4 0.226 26\\nDPM 43.2 37.8 0.458 32\\nPoselets [2] 36.5 17.8 0.271\\nD&T [4] - 1.9 0.051'),\n",
       " Document(page_content='look once (YOLO) at an image to predict what objects are\\npresent and where they are.\\nYOLO is refreshingly simple: see Figure 1. A sin-\\ngle convolutional network simultaneously predicts multi-\\nple bounding boxes and class probabilities for those boxes.\\nYOLO trains on full images and directly optimizes detec-\\ntion performance. This uniﬁed model has several beneﬁts\\nover traditional methods of object detection.\\nFirst, YOLO is extremely fast. Since we frame detection')]"
      ]
     },
     "execution_count": 29,
     "metadata": {},
     "output_type": "execute_result"
    }
   ],
   "source": [
    "query = \"What is YOLO?\"\n",
    "result = vector_stores.similarity_search(query, k= 10)\n",
    "result"
   ]
  },
  {
   "cell_type": "markdown",
   "metadata": {},
   "source": [
    "### 5. Query the Docs to get the Answer Back"
   ]
  },
  {
   "cell_type": "code",
   "execution_count": 25,
   "metadata": {},
   "outputs": [
    {
     "name": "stderr",
     "output_type": "stream",
     "text": [
      "d:\\Code Workspace\\Personal Project\\Personal Project - LangChain Project\\venv\\Lib\\site-packages\\huggingface_hub\\utils\\_deprecation.py:127: FutureWarning: '__init__' (from 'huggingface_hub.inference_api') is deprecated and will be removed from version '1.0'. `InferenceApi` client is deprecated in favor of the more feature-complete `InferenceClient`. Check out this guide to learn how to convert your script to use it: https://huggingface.co/docs/huggingface_hub/guides/inference#legacy-inferenceapi-client.\n",
      "  warnings.warn(warning_message, FutureWarning)\n"
     ]
    }
   ],
   "source": [
    "config = {\n",
    "    'max_new_tokens': 256, \n",
    "    'temperature': 0.6,\n",
    "}\n",
    "\n",
    "llm = HuggingFaceHub(\n",
    "    repo_id = \"mistralai/Mixtral-8x7B-Instruct-v0.1\",\n",
    "    model_kwargs = config\n",
    ")"
   ]
  },
  {
   "cell_type": "code",
   "execution_count": 70,
   "metadata": {},
   "outputs": [],
   "source": [
    "memory = ConversationBufferMemory(\n",
    "    memory_key= \"chat_history\",\n",
    "    return_messages=True\n",
    ")"
   ]
  },
  {
   "cell_type": "code",
   "execution_count": 71,
   "metadata": {},
   "outputs": [
    {
     "data": {
      "text/plain": [
       "{'chat_history': [HumanMessage(content='hi'), AIMessage(content='whats up')]}"
      ]
     },
     "execution_count": 71,
     "metadata": {},
     "output_type": "execute_result"
    }
   ],
   "source": [
    "memory.save_context({\"input\": \"hi\"}, {\"output\": \"whats up\"})\n",
    "memory.load_memory_variables({})"
   ]
  },
  {
   "cell_type": "code",
   "execution_count": 81,
   "metadata": {},
   "outputs": [],
   "source": [
    "conversation_chain = ConversationalRetrievalChain.from_llm(\n",
    "    llm = llm,\n",
    "    retriever= vector_stores.as_retriever(),\n",
    "    memory = memory\n",
    ")"
   ]
  },
  {
   "cell_type": "code",
   "execution_count": 82,
   "metadata": {},
   "outputs": [
    {
     "data": {
      "text/plain": [
       "ConversationalRetrievalChain(memory=ConversationBufferMemory(chat_memory=ChatMessageHistory(messages=[HumanMessage(content='hi'), AIMessage(content='whats up')]), return_messages=True, memory_key='chat_history'), combine_docs_chain=StuffDocumentsChain(llm_chain=LLMChain(prompt=PromptTemplate(input_variables=['context', 'question'], template=\"Use the following pieces of context to answer the question at the end. If you don't know the answer, just say that you don't know, don't try to make up an answer.\\n\\n{context}\\n\\nQuestion: {question}\\nHelpful Answer:\"), llm=HuggingFaceHub(client=InferenceAPI(api_url='https://api-inference.huggingface.co/pipeline/text-generation/mistralai/Mixtral-8x7B-Instruct-v0.1', task='text-generation', options={'wait_for_model': True, 'use_gpu': False}), repo_id='mistralai/Mixtral-8x7B-Instruct-v0.1', model_kwargs={'max_new_tokens': 256, 'temperature': 0.6})), document_variable_name='context'), question_generator=LLMChain(prompt=PromptTemplate(input_variables=['chat_history', 'question'], template='Given the following conversation and a follow up question, rephrase the follow up question to be a standalone question, in its original language.\\n\\nChat History:\\n{chat_history}\\nFollow Up Input: {question}\\nStandalone question:'), llm=HuggingFaceHub(client=InferenceAPI(api_url='https://api-inference.huggingface.co/pipeline/text-generation/mistralai/Mixtral-8x7B-Instruct-v0.1', task='text-generation', options={'wait_for_model': True, 'use_gpu': False}), repo_id='mistralai/Mixtral-8x7B-Instruct-v0.1', model_kwargs={'max_new_tokens': 256, 'temperature': 0.6})), retriever=VectorStoreRetriever(tags=['FAISS', 'HuggingFaceEmbeddings'], vectorstore=<langchain_community.vectorstores.faiss.FAISS object at 0x000002296B36B950>))"
      ]
     },
     "execution_count": 82,
     "metadata": {},
     "output_type": "execute_result"
    }
   ],
   "source": [
    "conversation_chain"
   ]
  },
  {
   "cell_type": "code",
   "execution_count": null,
   "metadata": {},
   "outputs": [],
   "source": []
  }
 ],
 "metadata": {
  "kernelspec": {
   "display_name": "venv",
   "language": "python",
   "name": "python3"
  },
  "language_info": {
   "codemirror_mode": {
    "name": "ipython",
    "version": 3
   },
   "file_extension": ".py",
   "mimetype": "text/x-python",
   "name": "python",
   "nbconvert_exporter": "python",
   "pygments_lexer": "ipython3",
   "version": "3.11.4"
  }
 },
 "nbformat": 4,
 "nbformat_minor": 2
}
